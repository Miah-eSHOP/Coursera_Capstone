{
  "nbformat": 4,
  "nbformat_minor": 0,
  "metadata": {
    "colab": {
      "name": "Coursera_Capstone.ipynb",
      "provenance": []
    },
    "kernelspec": {
      "name": "python3",
      "display_name": "Python 3"
    },
    "language_info": {
      "name": "python"
    }
  },
  "cells": [
    {
      "cell_type": "markdown",
      "metadata": {
        "id": "VROKjwDlaaeI"
      },
      "source": [
        "# This notebook will be mainly used for the «Coursera_capstone» project."
      ]
    },
    {
      "cell_type": "code",
      "metadata": {
        "id": "9H_P70U0ZNxy"
      },
      "source": [
        "import pandas as pd\n"
      ],
      "execution_count": 2,
      "outputs": []
    },
    {
      "cell_type": "code",
      "metadata": {
        "id": "5kfVfMsXa0Qz"
      },
      "source": [
        "import numpy as np"
      ],
      "execution_count": 3,
      "outputs": []
    },
    {
      "cell_type": "code",
      "metadata": {
        "colab": {
          "base_uri": "https://localhost:8080/"
        },
        "id": "UFcTQt6ca56V",
        "outputId": "9446c66f-87e8-4a23-9957-e21cea21cef1"
      },
      "source": [
        "print('Hello Captone Project Course!')"
      ],
      "execution_count": 4,
      "outputs": [
        {
          "output_type": "stream",
          "text": [
            "Hello Captone Project Course!\n"
          ],
          "name": "stdout"
        }
      ]
    }
  ]
}